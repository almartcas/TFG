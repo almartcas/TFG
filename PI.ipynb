{
  "nbformat": 4,
  "nbformat_minor": 0,
  "metadata": {
    "colab": {
      "name": "Untitled12.ipynb",
      "provenance": [],
      "authorship_tag": "ABX9TyMuX2wZGNCFYpzhL0gH9fcN",
      "include_colab_link": true
    },
    "kernelspec": {
      "name": "python3",
      "display_name": "Python 3"
    },
    "language_info": {
      "name": "python"
    }
  },
  "cells": [
    {
      "cell_type": "markdown",
      "metadata": {
        "id": "view-in-github",
        "colab_type": "text"
      },
      "source": [
        "<a href=\"https://colab.research.google.com/github/almartcas/oooo/blob/main/PI.ipynb\" target=\"_parent\"><img src=\"https://colab.research.google.com/assets/colab-badge.svg\" alt=\"Open In Colab\"/></a>"
      ]
    },
    {
      "cell_type": "code",
      "metadata": {
        "colab": {
          "base_uri": "https://localhost:8080/"
        },
        "id": "3H9GM2h73zlP",
        "outputId": "137ab2f0-54ef-4328-bbbc-0e5213b48b67"
      },
      "source": [
        "!pip install PersistenceImages"
      ],
      "execution_count": 96,
      "outputs": [
        {
          "output_type": "stream",
          "text": [
            "Requirement already satisfied: PersistenceImages in /usr/local/lib/python3.7/dist-packages (1.3.3)\n"
          ],
          "name": "stdout"
        }
      ]
    },
    {
      "cell_type": "code",
      "metadata": {
        "id": "fq3pjB0N4T-S"
      },
      "source": [
        "import PersistenceImages.persistence_images as pimg\n",
        "import numpy as np"
      ],
      "execution_count": 97,
      "outputs": []
    },
    {
      "cell_type": "code",
      "metadata": {
        "colab": {
          "base_uri": "https://localhost:8080/"
        },
        "id": "FfkIL6aV4U4T",
        "outputId": "28a72360-1799-4254-c045-5463761056a4"
      },
      "source": [
        "pers_imager = pimg.PersistenceImager(birth_range=(-1, 1.5), pers_range=(-1,1.5))\n",
        "print(pers_imager)"
      ],
      "execution_count": 98,
      "outputs": [
        {
          "output_type": "stream",
          "text": [
            "PersistenceImager object: \n",
            "  pixel size: 0.5 \n",
            "  resolution: (5, 5) \n",
            "  birth range: (-1, 1.5) \n",
            "  persistence range: (-1, 1.5) \n",
            "  weight: linear_ramp \n",
            "  kernel: bvncdf \n",
            "  weight parameters: {} \n",
            "  kernel parameters: {sigma: [[1. 0.]\n",
            " [0. 1.]]}\n"
          ],
          "name": "stdout"
        }
      ]
    },
    {
      "cell_type": "code",
      "metadata": {
        "id": "5dSalKMa4j73"
      },
      "source": [
        "pers_dgm = np.array([[0.        , 0.16763055],\n",
        "        [0.        , 0.18681541],\n",
        "        [0.        , 0.25961509],\n",
        "        [0.        , 0.35846898],\n",
        "        [0.        , 0.3667424 ],\n",
        "        [0.        , 0.39319205],\n",
        "        [0.        , 0.40496913]])\n",
        "pers_img = pers_imager.transform(pers_dgm, skew=True)"
      ],
      "execution_count": 99,
      "outputs": []
    },
    {
      "cell_type": "code",
      "metadata": {
        "colab": {
          "base_uri": "https://localhost:8080/",
          "height": 279
        },
        "id": "LFVaa1cU4w1z",
        "outputId": "03b0446e-6c99-484c-e795-53e2b83748bb"
      },
      "source": [
        "pers_imager.plot_diagram(pers_dgm, skew=True)"
      ],
      "execution_count": 100,
      "outputs": [
        {
          "output_type": "display_data",
          "data": {
            "image/png": "[encoded data removed]",
            "text/plain": [
              "<Figure size 432x288 with 1 Axes>"
            ]
          },
          "metadata": {
            "tags": [],
            "needs_background": "light"
          }
        }
      ]
    },
    {
      "cell_type": "code",
      "metadata": {
        "colab": {
          "base_uri": "https://localhost:8080/",
          "height": 266
        },
        "id": "f98WvgK64yCg",
        "outputId": "34dbc3f0-7837-4b1b-9367-fbb5363c5230"
      },
      "source": [
        "pers_imager.plot_image(pers_dgm, skew=True)"
      ],
      "execution_count": 101,
      "outputs": [
        {
          "output_type": "display_data",
          "data": {
            "image/png": "[encoded data removed]",
            "text/plain": [
              "<Figure size 432x288 with 1 Axes>"
            ]
          },
          "metadata": {
            "tags": []
          }
        }
      ]
    },
    {
      "cell_type": "markdown",
      "metadata": {
        "id": "eqAFo1CLNjjS"
      },
      "source": [
        "PI de resoluciones diferentes "
      ]
    },
    {
      "cell_type": "code",
      "metadata": {
        "colab": {
          "base_uri": "https://localhost:8080/"
        },
        "id": "2zvWNDOjNoGp",
        "outputId": "6e326c9f-3321-4172-b30d-946fdbafb339"
      },
      "source": [
        "pers_imager.pixel_size = 1\n",
        "print(pers_imager)"
      ],
      "execution_count": 104,
      "outputs": [
        {
          "output_type": "stream",
          "text": [
            "PersistenceImager object: \n",
            "  pixel size: 1 \n",
            "  resolution: (3, 3) \n",
            "  birth range: (-1.25, 1.75) \n",
            "  persistence range: (-1.25, 1.75) \n",
            "  weight: linear_ramp \n",
            "  kernel: bvncdf \n",
            "  weight parameters: {} \n",
            "  kernel parameters: {sigma: [[1. 0.]\n",
            " [0. 1.]]}\n"
          ],
          "name": "stdout"
        }
      ]
    },
    {
      "cell_type": "code",
      "metadata": {
        "colab": {
          "base_uri": "https://localhost:8080/",
          "height": 279
        },
        "id": "zpgcVtMvN8kQ",
        "outputId": "cf7a663d-e6dd-4868-9496-c5884b2540f7"
      },
      "source": [
        "pers_imager.plot_diagram(pers_dgm, skew=True)"
      ],
      "execution_count": 105,
      "outputs": [
        {
          "output_type": "display_data",
          "data": {
            "image/png": "[encoded data removed]",
            "text/plain": [
              "<Figure size 432x288 with 1 Axes>"
            ]
          },
          "metadata": {
            "tags": [],
            "needs_background": "light"
          }
        }
      ]
    },
    {
      "cell_type": "code",
      "metadata": {
        "colab": {
          "base_uri": "https://localhost:8080/",
          "height": 266
        },
        "id": "n2r5bqf4OC9l",
        "outputId": "e25f7973-758e-4493-fdaf-888b624ab0fb"
      },
      "source": [
        "pers_imager.plot_image(pers_dgm, skew=True)"
      ],
      "execution_count": 106,
      "outputs": [
        {
          "output_type": "display_data",
          "data": {
            "image/png": "[encoded data removed]",
            "text/plain": [
              "<Figure size 432x288 with 1 Axes>"
            ]
          },
          "metadata": {
            "tags": []
          }
        }
      ]
    },
    {
      "cell_type": "code",
      "metadata": {
        "colab": {
          "base_uri": "https://localhost:8080/"
        },
        "id": "B-jiJJBlU5CC",
        "outputId": "6e74f829-870f-4ca0-e6f6-846d88041344"
      },
      "source": [
        "pers_imager.pixel_size = 0.03\n",
        "print(pers_imager)"
      ],
      "execution_count": 107,
      "outputs": [
        {
          "output_type": "stream",
          "text": [
            "PersistenceImager object: \n",
            "  pixel size: 0.03 \n",
            "  resolution: (100, 100) \n",
            "  birth range: (-1.25, 1.75) \n",
            "  persistence range: (-1.25, 1.75) \n",
            "  weight: linear_ramp \n",
            "  kernel: bvncdf \n",
            "  weight parameters: {} \n",
            "  kernel parameters: {sigma: [[1. 0.]\n",
            " [0. 1.]]}\n"
          ],
          "name": "stdout"
        }
      ]
    },
    {
      "cell_type": "code",
      "metadata": {
        "colab": {
          "base_uri": "https://localhost:8080/",
          "height": 279
        },
        "id": "yKFokJBiU8U6",
        "outputId": "54a2cf00-6abe-4885-e630-4bbcb773ebd0"
      },
      "source": [
        "pers_imager.plot_diagram(pers_dgm, skew=True)"
      ],
      "execution_count": 108,
      "outputs": [
        {
          "output_type": "display_data",
          "data": {
            "image/png": "[encoded data removed]",
            "text/plain": [
              "<Figure size 432x288 with 1 Axes>"
            ]
          },
          "metadata": {
            "tags": [],
            "needs_background": "light"
          }
        }
      ]
    },
    {
      "cell_type": "code",
      "metadata": {
        "colab": {
          "base_uri": "https://localhost:8080/",
          "height": 266
        },
        "id": "pec3tbNkU-1B",
        "outputId": "f5511609-da10-4614-8a49-4d16a255d418"
      },
      "source": [
        "pers_imager.plot_image(pers_dgm, skew=True)"
      ],
      "execution_count": 109,
      "outputs": [
        {
          "output_type": "display_data",
          "data": {
            "image/png": "[encoded data removed]",
            "text/plain": [
              "<Figure size 432x288 with 1 Axes>"
            ]
          },
          "metadata": {
            "tags": []
          }
        }
      ]
    }
  ]
}