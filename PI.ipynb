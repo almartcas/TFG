{
  "nbformat": 4,
  "nbformat_minor": 0,
  "metadata": {
    "colab": {
      "name": "Untitled12.ipynb",
      "provenance": [],
      "authorship_tag": "ABX9TyNG5d+6K3ZQBua0Lj6UeohJ",
      "include_colab_link": true
    },
    "kernelspec": {
      "name": "python3",
      "display_name": "Python 3"
    },
    "language_info": {
      "name": "python"
    }
  },
  "cells": [
    {
      "cell_type": "markdown",
      "metadata": {
        "id": "view-in-github",
        "colab_type": "text"
      },
      "source": [
        "<a href=\"https://colab.research.google.com/github/almartcas/TFG/blob/main/PI.ipynb\" target=\"_parent\"><img src=\"https://colab.research.google.com/assets/colab-badge.svg\" alt=\"Open In Colab\"/></a>"
      ]
    },
    {
      "cell_type": "markdown",
      "metadata": {
        "id": "stRBx3aklW28"
      },
      "source": [
        "# Imágenes de persistencia."
      ]
    },
    {
      "cell_type": "markdown",
      "metadata": {
        "id": "PAxiT8Tolbuu"
      },
      "source": [
        "En este notebook vamos a utilizar un diagrama de persistencia para construir imágenes de persistencia."
      ]
    },
    {
      "cell_type": "code",
      "metadata": {
        "id": "3H9GM2h73zlP"
      },
      "source": [
        "!pip install PersistenceImages"
      ],
      "execution_count": null,
      "outputs": []
    },
    {
      "cell_type": "code",
      "metadata": {
        "id": "fq3pjB0N4T-S"
      },
      "source": [
        "import PersistenceImages.persistence_images as pimg\n",
        "import numpy as np"
      ],
      "execution_count": 2,
      "outputs": []
    },
    {
      "cell_type": "markdown",
      "metadata": {
        "id": "JK9G69KBl76n"
      },
      "source": [
        "Primero creamos el objeto de la imagen de persistencia con con los parámetros por defecto, pero con las dimensiones que deseamos. "
      ]
    },
    {
      "cell_type": "code",
      "metadata": {
        "colab": {
          "base_uri": "https://localhost:8080/"
        },
        "id": "FfkIL6aV4U4T",
        "outputId": "70ac859c-f424-4f46-d760-9ec66eecd59d"
      },
      "source": [
        "pers_imager = pimg.PersistenceImager(birth_range=(-1, 1.5), pers_range=(-1,1.5))\n",
        "print(pers_imager)"
      ],
      "execution_count": 3,
      "outputs": [
        {
          "output_type": "stream",
          "text": [
            "PersistenceImager object: \n",
            "  pixel size: 0.5 \n",
            "  resolution: (5, 5) \n",
            "  birth range: (-1, 1.5) \n",
            "  persistence range: (-1, 1.5) \n",
            "  weight: linear_ramp \n",
            "  kernel: bvncdf \n",
            "  weight parameters: {} \n",
            "  kernel parameters: {sigma: [[1. 0.]\n",
            " [0. 1.]]}\n"
          ],
          "name": "stdout"
        }
      ]
    },
    {
      "cell_type": "markdown",
      "metadata": {
        "id": "bSNumpxxmsBA"
      },
      "source": [
        "A continuación, generamos la imagen de persistencia con la información del diagrama de persistencia que hemos utilizado anteriormente."
      ]
    },
    {
      "cell_type": "code",
      "metadata": {
        "id": "5dSalKMa4j73"
      },
      "source": [
        "pers_dgm = np.array([[0.        , 0.16763055],\n",
        "        [0.        , 0.18681541],\n",
        "        [0.        , 0.25961509],\n",
        "        [0.        , 0.35846898],\n",
        "        [0.        , 0.3667424 ],\n",
        "        [0.        , 0.39319205],\n",
        "        [0.        , 0.40496913]])\n",
        "pers_img = pers_imager.transform(pers_dgm, skew=True)"
      ],
      "execution_count": 4,
      "outputs": []
    },
    {
      "cell_type": "markdown",
      "metadata": {
        "id": "PZnU5GVRnF5z"
      },
      "source": [
        "En la primera imagen se muestran los puntos del diagrama de persistencia sobre la cuadrícula que hemos creado al principio, en la segunda imagen ya se ha añadido la información a cada pixel para construir la imagen de persistencia.\n",
        "\n",
        "\n",
        "\n",
        "\n"
      ]
    },
    {
      "cell_type": "code",
      "metadata": {
        "colab": {
          "base_uri": "https://localhost:8080/",
          "height": 278
        },
        "id": "LFVaa1cU4w1z",
        "outputId": "aa843db4-86c4-4bb5-be4b-624568370f69"
      },
      "source": [
        "pers_imager.plot_diagram(pers_dgm, skew=True)"
      ],
      "execution_count": 5,
      "outputs": [
        {
          "output_type": "display_data",
          "data": {
            "image/png": "[encoded data removed]",
            "text/plain": [
              "<Figure size 432x288 with 1 Axes>"
            ]
          },
          "metadata": {
            "tags": [],
            "needs_background": "light"
          }
        }
      ]
    },
    {
      "cell_type": "code",
      "metadata": {
        "colab": {
          "base_uri": "https://localhost:8080/",
          "height": 265
        },
        "id": "f98WvgK64yCg",
        "outputId": "23617616-9fed-451c-91fa-bb41c3338b36"
      },
      "source": [
        "pers_imager.plot_image(pers_dgm, skew=True)"
      ],
      "execution_count": 6,
      "outputs": [
        {
          "output_type": "display_data",
          "data": {
            "image/png": "[encoded data removed]",
            "text/plain": [
              "<Figure size 432x288 with 1 Axes>"
            ]
          },
          "metadata": {
            "tags": []
          }
        }
      ]
    },
    {
      "cell_type": "markdown",
      "metadata": {
        "id": "eqAFo1CLNjjS"
      },
      "source": [
        "En las siguientes celdas construimos imágenes de persistencia con diferentes resoluciones."
      ]
    },
    {
      "cell_type": "code",
      "metadata": {
        "colab": {
          "base_uri": "https://localhost:8080/"
        },
        "id": "2zvWNDOjNoGp",
        "outputId": "5b7b809e-33a0-42f1-c7ac-c8d77b01318a"
      },
      "source": [
        "pers_imager.pixel_size = 1\n",
        "print(pers_imager)"
      ],
      "execution_count": 7,
      "outputs": [
        {
          "output_type": "stream",
          "text": [
            "PersistenceImager object: \n",
            "  pixel size: 1 \n",
            "  resolution: (3, 3) \n",
            "  birth range: (-1.25, 1.75) \n",
            "  persistence range: (-1.25, 1.75) \n",
            "  weight: linear_ramp \n",
            "  kernel: bvncdf \n",
            "  weight parameters: {} \n",
            "  kernel parameters: {sigma: [[1. 0.]\n",
            " [0. 1.]]}\n"
          ],
          "name": "stdout"
        }
      ]
    },
    {
      "cell_type": "code",
      "metadata": {
        "colab": {
          "base_uri": "https://localhost:8080/",
          "height": 278
        },
        "id": "zpgcVtMvN8kQ",
        "outputId": "a62b55e9-220d-47ae-f51c-960346023e5c"
      },
      "source": [
        "pers_imager.plot_diagram(pers_dgm, skew=True)"
      ],
      "execution_count": 8,
      "outputs": [
        {
          "output_type": "display_data",
          "data": {
            "image/png": "[encoded data removed]",
            "text/plain": [
              "<Figure size 432x288 with 1 Axes>"
            ]
          },
          "metadata": {
            "tags": [],
            "needs_background": "light"
          }
        }
      ]
    },
    {
      "cell_type": "code",
      "metadata": {
        "colab": {
          "base_uri": "https://localhost:8080/",
          "height": 265
        },
        "id": "n2r5bqf4OC9l",
        "outputId": "f80488f6-e39c-43f6-9fb7-2fa1bde4e509"
      },
      "source": [
        "pers_imager.plot_image(pers_dgm, skew=True)"
      ],
      "execution_count": 9,
      "outputs": [
        {
          "output_type": "display_data",
          "data": {
            "image/png": "[encoded data removed]",
            "text/plain": [
              "<Figure size 432x288 with 1 Axes>"
            ]
          },
          "metadata": {
            "tags": []
          }
        }
      ]
    },
    {
      "cell_type": "code",
      "metadata": {
        "colab": {
          "base_uri": "https://localhost:8080/"
        },
        "id": "B-jiJJBlU5CC",
        "outputId": "faeefbc8-516d-4e60-8be3-78c9602d184b"
      },
      "source": [
        "pers_imager.pixel_size = 0.03\n",
        "print(pers_imager)"
      ],
      "execution_count": 10,
      "outputs": [
        {
          "output_type": "stream",
          "text": [
            "PersistenceImager object: \n",
            "  pixel size: 0.03 \n",
            "  resolution: (100, 100) \n",
            "  birth range: (-1.25, 1.75) \n",
            "  persistence range: (-1.25, 1.75) \n",
            "  weight: linear_ramp \n",
            "  kernel: bvncdf \n",
            "  weight parameters: {} \n",
            "  kernel parameters: {sigma: [[1. 0.]\n",
            " [0. 1.]]}\n"
          ],
          "name": "stdout"
        }
      ]
    },
    {
      "cell_type": "code",
      "metadata": {
        "colab": {
          "base_uri": "https://localhost:8080/",
          "height": 278
        },
        "id": "yKFokJBiU8U6",
        "outputId": "8e012089-4574-417c-bc10-577243f45581"
      },
      "source": [
        "pers_imager.plot_diagram(pers_dgm, skew=True)"
      ],
      "execution_count": 11,
      "outputs": [
        {
          "output_type": "display_data",
          "data": {
            "image/png": "[encoded data removed]",
            "text/plain": [
              "<Figure size 432x288 with 1 Axes>"
            ]
          },
          "metadata": {
            "tags": [],
            "needs_background": "light"
          }
        }
      ]
    },
    {
      "cell_type": "code",
      "metadata": {
        "colab": {
          "base_uri": "https://localhost:8080/",
          "height": 265
        },
        "id": "pec3tbNkU-1B",
        "outputId": "aa9844c7-d276-4d87-e2d5-303fe6643900"
      },
      "source": [
        "pers_imager.plot_image(pers_dgm, skew=True)"
      ],
      "execution_count": 12,
      "outputs": [
        {
          "output_type": "display_data",
          "data": {
            "image/png": "[encoded data removed]",
            "text/plain": [
              "<Figure size 432x288 with 1 Axes>"
            ]
          },
          "metadata": {
            "tags": []
          }
        }
      ]
    }
  ]
}