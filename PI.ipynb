{
  "nbformat": 4,
  "nbformat_minor": 0,
  "metadata": {
    "colab": {
      "name": "Untitled12.ipynb",
      "provenance": [],
      "authorship_tag": "ABX9TyP165fDNXatL/khFV3jxXJA",
      "include_colab_link": true
    },
    "kernelspec": {
      "name": "python3",
      "display_name": "Python 3"
    },
    "language_info": {
      "name": "python"
    }
  },
  "cells": [
    {
      "cell_type": "markdown",
      "metadata": {
        "id": "view-in-github",
        "colab_type": "text"
      },
      "source": [
        "<a href=\"https://colab.research.google.com/github/almartcas/oooo/blob/main/PI.ipynb\" target=\"_parent\"><img src=\"https://colab.research.google.com/assets/colab-badge.svg\" alt=\"Open In Colab\"/></a>"
      ]
    },
    {
      "cell_type": "code",
      "metadata": {
        "colab": {
          "base_uri": "https://localhost:8080/"
        },
        "id": "3H9GM2h73zlP",
        "outputId": "1a6aa76c-07ac-4483-beeb-937af16aff14"
      },
      "source": [
        "!pip install PersistenceImages"
      ],
      "execution_count": 1,
      "outputs": [
        {
          "output_type": "stream",
          "text": [
            "Collecting PersistenceImages\n",
            "  Downloading https://files.pythonhosted.org/packages/f0/7d/6c07d459dfd70b783e148052232fa7dc65a30df6bb5d354eeb8a94171af2/PersistenceImages-1.3.3.tar.gz\n",
            "Building wheels for collected packages: PersistenceImages\n",
            "  Building wheel for PersistenceImages (setup.py) ... \u001b[?25l\u001b[?25hdone\n",
            "  Created wheel for PersistenceImages: filename=PersistenceImages-1.3.3-cp37-none-any.whl size=10410 sha256=72c278dfe33fa9e82eb6d97dded7c9459baeb6e97793f1c90dfda1be71376e79\n",
            "  Stored in directory: /root/.cache/pip/wheels/32/32/a3/4ebc58b37f466ea7eb4e88bb9a7cb118af84db9bc11c91ce69\n",
            "Successfully built PersistenceImages\n",
            "Installing collected packages: PersistenceImages\n",
            "Successfully installed PersistenceImages-1.3.3\n"
          ],
          "name": "stdout"
        }
      ]
    },
    {
      "cell_type": "code",
      "metadata": {
        "id": "fq3pjB0N4T-S"
      },
      "source": [
        "import PersistenceImages.persistence_images as pimg\n",
        "import numpy as np"
      ],
      "execution_count": 2,
      "outputs": []
    },
    {
      "cell_type": "code",
      "metadata": {
        "colab": {
          "base_uri": "https://localhost:8080/"
        },
        "id": "FfkIL6aV4U4T",
        "outputId": "ea5ec263-4fe5-480d-9929-064fac06843e"
      },
      "source": [
        "pers_imager = pimg.PersistenceImager(birth_range=(0, 1.5), pers_range=(-1,1))\n",
        "print(pers_imager)"
      ],
      "execution_count": 3,
      "outputs": [
        {
          "output_type": "stream",
          "text": [
            "PersistenceImager object: \n",
            "  pixel size: 0.3 \n",
            "  resolution: (4, 6) \n",
            "  birth range: (0, 1.5) \n",
            "  persistence range: (-1, 1) \n",
            "  weight: linear_ramp \n",
            "  kernel: bvncdf \n",
            "  weight parameters: {} \n",
            "  kernel parameters: {sigma: [[1. 0.]\n",
            " [0. 1.]]}\n"
          ],
          "name": "stdout"
        }
      ]
    },
    {
      "cell_type": "code",
      "metadata": {
        "id": "5dSalKMa4j73"
      },
      "source": [
        "pers_dgm = np.array([[0.9822056 , 0.36493877],\n",
        "       [0.50298887, 0.9267979 ],\n",
        "       [0.23574578, 0.35935633],\n",
        "       [0.55150194, 0.54188547],\n",
        "       [0.31985077, 0.98478966],\n",
        "       [0.90971858, 0.60986595],\n",
        "       [0.66289489, 0.98271819],\n",
        "       [0.76184398, 0.0173718 ]])\n",
        "pers_img = pers_imager.transform(pers_dgm, skew=True)"
      ],
      "execution_count": 4,
      "outputs": []
    },
    {
      "cell_type": "code",
      "metadata": {
        "colab": {
          "base_uri": "https://localhost:8080/",
          "height": 279
        },
        "id": "LFVaa1cU4w1z",
        "outputId": "1ba03052-b457-427e-967d-8b5d5eb58e7e"
      },
      "source": [
        "pers_imager.plot_diagram(pers_dgm, skew=True)"
      ],
      "execution_count": 5,
      "outputs": [
        {
          "output_type": "display_data",
          "data": {
            "image/png": "[encoded data removed]",
            "text/plain": [
              "<Figure size 432x288 with 1 Axes>"
            ]
          },
          "metadata": {
            "tags": [],
            "needs_background": "light"
          }
        }
      ]
    },
    {
      "cell_type": "code",
      "metadata": {
        "colab": {
          "base_uri": "https://localhost:8080/",
          "height": 266
        },
        "id": "f98WvgK64yCg",
        "outputId": "b1d95b68-d79e-4ea2-c596-8ed9e2e65d77"
      },
      "source": [
        "pers_imager.plot_image(pers_dgm, skew=True)"
      ],
      "execution_count": 6,
      "outputs": [
        {
          "output_type": "display_data",
          "data": {
            "image/png": "[encoded data removed]",
            "text/plain": [
              "<Figure size 432x288 with 1 Axes>"
            ]
          },
          "metadata": {
            "tags": []
          }
        }
      ]
    },
    {
      "cell_type": "markdown",
      "metadata": {
        "id": "eqAFo1CLNjjS"
      },
      "source": [
        "PI de resoluciones diferentes "
      ]
    },
    {
      "cell_type": "code",
      "metadata": {
        "colab": {
          "base_uri": "https://localhost:8080/"
        },
        "id": "2zvWNDOjNoGp",
        "outputId": "ee6e6c3a-ba6a-48f8-ba8c-671527eacf70"
      },
      "source": [
        "pers_imager.pixel_size = 0.7\n",
        "print(pers_imager)"
      ],
      "execution_count": 18,
      "outputs": [
        {
          "output_type": "stream",
          "text": [
            "PersistenceImager object: \n",
            "  pixel size: 0.7 \n",
            "  resolution: (2, 2) \n",
            "  birth range: (-0.3, 1.8) \n",
            "  persistence range: (-1.05, 1.05) \n",
            "  weight: linear_ramp \n",
            "  kernel: bvncdf \n",
            "  weight parameters: {} \n",
            "  kernel parameters: {sigma: [[1. 0.]\n",
            " [0. 1.]]}\n"
          ],
          "name": "stdout"
        }
      ]
    },
    {
      "cell_type": "code",
      "metadata": {
        "colab": {
          "base_uri": "https://localhost:8080/",
          "height": 279
        },
        "id": "zpgcVtMvN8kQ",
        "outputId": "e184580a-0a0c-494e-d797-4e2fa40f8c00"
      },
      "source": [
        "pers_imager.plot_diagram(pers_dgm, skew=True)"
      ],
      "execution_count": 19,
      "outputs": [
        {
          "output_type": "display_data",
          "data": {
            "image/png": "[encoded data removed]",
            "text/plain": [
              "<Figure size 432x288 with 1 Axes>"
            ]
          },
          "metadata": {
            "tags": [],
            "needs_background": "light"
          }
        }
      ]
    },
    {
      "cell_type": "code",
      "metadata": {
        "colab": {
          "base_uri": "https://localhost:8080/",
          "height": 266
        },
        "id": "n2r5bqf4OC9l",
        "outputId": "a8e637fc-7716-484e-a505-fc530cd8a5d8"
      },
      "source": [
        "pers_imager.plot_image(pers_dgm, skew=True)"
      ],
      "execution_count": 20,
      "outputs": [
        {
          "output_type": "display_data",
          "data": {
            "image/png": "[encoded data removed]",
            "text/plain": [
              "<Figure size 432x288 with 1 Axes>"
            ]
          },
          "metadata": {
            "tags": []
          }
        }
      ]
    },
    {
      "cell_type": "code",
      "metadata": {
        "colab": {
          "base_uri": "https://localhost:8080/"
        },
        "id": "3ac5-berOMWI",
        "outputId": "ca6ee70e-6186-4f45-8f86-7acf986ae34c"
      },
      "source": [
        "pers_imager.pixel_size = 0.03\n",
        "print(pers_imager)"
      ],
      "execution_count": 21,
      "outputs": [
        {
          "output_type": "stream",
          "text": [
            "PersistenceImager object: \n",
            "  pixel size: 0.03 \n",
            "  resolution: (70, 70) \n",
            "  birth range: (-0.3, 1.8) \n",
            "  persistence range: (-1.05, 1.05) \n",
            "  weight: linear_ramp \n",
            "  kernel: bvncdf \n",
            "  weight parameters: {} \n",
            "  kernel parameters: {sigma: [[1. 0.]\n",
            " [0. 1.]]}\n"
          ],
          "name": "stdout"
        }
      ]
    },
    {
      "cell_type": "code",
      "metadata": {
        "colab": {
          "base_uri": "https://localhost:8080/",
          "height": 279
        },
        "id": "WO-PUkmFOepa",
        "outputId": "29572f79-98b3-4668-b401-44075dcb2860"
      },
      "source": [
        "pers_imager.plot_diagram(pers_dgm, skew=True)"
      ],
      "execution_count": 22,
      "outputs": [
        {
          "output_type": "display_data",
          "data": {
            "image/png": "[encoded data removed]",
            "text/plain": [
              "<Figure size 432x288 with 1 Axes>"
            ]
          },
          "metadata": {
            "tags": [],
            "needs_background": "light"
          }
        }
      ]
    },
    {
      "cell_type": "code",
      "metadata": {
        "colab": {
          "base_uri": "https://localhost:8080/",
          "height": 266
        },
        "id": "pXYStc9SOg_o",
        "outputId": "1e5ec157-2b4a-4c95-f7ba-101eb227e66f"
      },
      "source": [
        "pers_imager.plot_image(pers_dgm, skew=True)"
      ],
      "execution_count": 23,
      "outputs": [
        {
          "output_type": "display_data",
          "data": {
            "image/png": "[encoded data removed]",
            "text/plain": [
              "<Figure size 432x288 with 1 Axes>"
            ]
          },
          "metadata": {
            "tags": []
          }
        }
      ]
    }
  ]
}