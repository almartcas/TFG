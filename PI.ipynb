{
  "nbformat": 4,
  "nbformat_minor": 0,
  "metadata": {
    "colab": {
      "name": "Untitled12.ipynb",
      "provenance": [],
      "authorship_tag": "ABX9TyPfYlGPHMJTI10bouwRu73r",
      "include_colab_link": true
    },
    "kernelspec": {
      "name": "python3",
      "display_name": "Python 3"
    },
    "language_info": {
      "name": "python"
    }
  },
  "cells": [
    {
      "cell_type": "markdown",
      "metadata": {
        "id": "view-in-github",
        "colab_type": "text"
      },
      "source": [
        "<a href=\"https://colab.research.google.com/github/almartcas/oooo/blob/main/PI.ipynb\" target=\"_parent\"><img src=\"https://colab.research.google.com/assets/colab-badge.svg\" alt=\"Open In Colab\"/></a>"
      ]
    },
    {
      "cell_type": "code",
      "metadata": {
        "colab": {
          "base_uri": "https://localhost:8080/"
        },
        "id": "3H9GM2h73zlP",
        "outputId": "7274ec7a-50a0-445c-c1a2-6e8c3dfe2499"
      },
      "source": [
        "!pip install PersistenceImages"
      ],
      "execution_count": 2,
      "outputs": [
        {
          "output_type": "stream",
          "text": [
            "Collecting PersistenceImages\n",
            "  Downloading https://files.pythonhosted.org/packages/f0/7d/6c07d459dfd70b783e148052232fa7dc65a30df6bb5d354eeb8a94171af2/PersistenceImages-1.3.3.tar.gz\n",
            "Building wheels for collected packages: PersistenceImages\n",
            "  Building wheel for PersistenceImages (setup.py) ... \u001b[?25l\u001b[?25hdone\n",
            "  Created wheel for PersistenceImages: filename=PersistenceImages-1.3.3-cp37-none-any.whl size=10410 sha256=c2d52f2119418da6850ecadec4d694e76621926e1cd5bca43dba4fc24595d347\n",
            "  Stored in directory: /root/.cache/pip/wheels/32/32/a3/4ebc58b37f466ea7eb4e88bb9a7cb118af84db9bc11c91ce69\n",
            "Successfully built PersistenceImages\n",
            "Installing collected packages: PersistenceImages\n",
            "Successfully installed PersistenceImages-1.3.3\n"
          ],
          "name": "stdout"
        }
      ]
    },
    {
      "cell_type": "code",
      "metadata": {
        "id": "fq3pjB0N4T-S"
      },
      "source": [
        "import PersistenceImages.persistence_images as pimg\n",
        "import numpy as np"
      ],
      "execution_count": 7,
      "outputs": []
    },
    {
      "cell_type": "code",
      "metadata": {
        "colab": {
          "base_uri": "https://localhost:8080/"
        },
        "id": "FfkIL6aV4U4T",
        "outputId": "883fac83-ab62-49a7-8da0-499d65152b12"
      },
      "source": [
        "pers_imager = pimg.PersistenceImager(birth_range=(0, 1.5), pers_range=(-1,1))\n",
        "print(pers_imager)"
      ],
      "execution_count": 37,
      "outputs": [
        {
          "output_type": "stream",
          "text": [
            "PersistenceImager object: \n",
            "  pixel size: 0.3 \n",
            "  resolution: (4, 6) \n",
            "  birth range: (0, 1.5) \n",
            "  persistence range: (-1, 1) \n",
            "  weight: linear_ramp \n",
            "  kernel: bvncdf \n",
            "  weight parameters: {} \n",
            "  kernel parameters: {sigma: [[1. 0.]\n",
            " [0. 1.]]}\n"
          ],
          "name": "stdout"
        }
      ]
    },
    {
      "cell_type": "code",
      "metadata": {
        "id": "5dSalKMa4j73"
      },
      "source": [
        "pers_dgm = np.array([[0.9822056 , 0.36493877],\n",
        "       [0.50298887, 0.9267979 ],\n",
        "       [0.23574578, 0.35935633],\n",
        "       [0.55150194, 0.54188547],\n",
        "       [0.31985077, 0.98478966],\n",
        "       [0.90971858, 0.60986595],\n",
        "       [0.66289489, 0.98271819],\n",
        "       [0.76184398, 0.0173718 ]])\n",
        "pers_img = pers_imager.transform(pers_dgm, skew=True)"
      ],
      "execution_count": 38,
      "outputs": []
    },
    {
      "cell_type": "code",
      "metadata": {
        "colab": {
          "base_uri": "https://localhost:8080/",
          "height": 279
        },
        "id": "LFVaa1cU4w1z",
        "outputId": "52069ace-2697-438a-cb06-4733ff992c3f"
      },
      "source": [
        "pers_imager.plot_diagram(pers_dgm, skew=True)"
      ],
      "execution_count": 39,
      "outputs": [
        {
          "output_type": "display_data",
          "data": {
            "image/png": "[encoded data removed]",
            "text/plain": [
              "<Figure size 432x288 with 1 Axes>"
            ]
          },
          "metadata": {
            "tags": [],
            "needs_background": "light"
          }
        }
      ]
    },
    {
      "cell_type": "code",
      "metadata": {
        "colab": {
          "base_uri": "https://localhost:8080/",
          "height": 266
        },
        "id": "f98WvgK64yCg",
        "outputId": "943e399d-5246-42fe-f2c0-e57f3819146f"
      },
      "source": [
        "pers_imager.plot_image(pers_dgm, skew=True)"
      ],
      "execution_count": 40,
      "outputs": [
        {
          "output_type": "display_data",
          "data": {
            "image/png": "[encoded data removed]",
            "text/plain": [
              "<Figure size 432x288 with 1 Axes>"
            ]
          },
          "metadata": {
            "tags": []
          }
        }
      ]
    },
    {
      "cell_type": "code",
      "metadata": {
        "colab": {
          "base_uri": "https://localhost:8080/"
        },
        "id": "RsG_CYwi41g4",
        "outputId": "71538e4d-39f0-4832-a94c-4b6ce12cbcd6"
      },
      "source": [
        "pers_imager.pixel_size = 0.02\n",
        "print(pers_imager)"
      ],
      "execution_count": 41,
      "outputs": [
        {
          "output_type": "stream",
          "text": [
            "PersistenceImager object: \n",
            "  pixel size: 0.02 \n",
            "  resolution: (75, 100) \n",
            "  birth range: (0, 1.5) \n",
            "  persistence range: (-1, 1) \n",
            "  weight: linear_ramp \n",
            "  kernel: bvncdf \n",
            "  weight parameters: {} \n",
            "  kernel parameters: {sigma: [[1. 0.]\n",
            " [0. 1.]]}\n"
          ],
          "name": "stdout"
        }
      ]
    },
    {
      "cell_type": "code",
      "metadata": {
        "id": "C4OESgxX5DKW"
      },
      "source": [
        "pers_dgm = np.array([[0.9822056 , 0.36493877],\n",
        "       [0.50298887, 0.9267979 ],\n",
        "       [0.23574578, 0.35935633],\n",
        "       [0.55150194, 0.54188547],\n",
        "       [0.31985077, 0.98478966],\n",
        "       [0.90971858, 0.60986595],\n",
        "       [0.66289489, 0.98271819],\n",
        "       [0.76184398, 0.0173718 ]])\n",
        "pers_img = pers_imager.transform(pers_dgm, skew=True)"
      ],
      "execution_count": 42,
      "outputs": []
    },
    {
      "cell_type": "code",
      "metadata": {
        "colab": {
          "base_uri": "https://localhost:8080/",
          "height": 279
        },
        "id": "4xtCAIcK5Fcr",
        "outputId": "b80383f9-ad93-43ab-da2c-b05cd669c6b0"
      },
      "source": [
        "pers_imager.plot_diagram(pers_dgm, skew=True)"
      ],
      "execution_count": 43,
      "outputs": [
        {
          "output_type": "display_data",
          "data": {
            "image/png": "[encoded data removed]",
            "text/plain": [
              "<Figure size 432x288 with 1 Axes>"
            ]
          },
          "metadata": {
            "tags": [],
            "needs_background": "light"
          }
        }
      ]
    },
    {
      "cell_type": "code",
      "metadata": {
        "colab": {
          "base_uri": "https://localhost:8080/",
          "height": 266
        },
        "id": "KKg8yVe55IRX",
        "outputId": "d04ff6bc-529e-45cf-e733-75a9a6e1bd9f"
      },
      "source": [
        "pers_imager.plot_image(pers_dgm, skew=True)"
      ],
      "execution_count": 44,
      "outputs": [
        {
          "output_type": "display_data",
          "data": {
            "image/png": "[encoded data removed]",
            "text/plain": [
              "<Figure size 432x288 with 1 Axes>"
            ]
          },
          "metadata": {
            "tags": []
          }
        }
      ]
    }
  ]
}