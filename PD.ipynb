{
  "nbformat": 4,
  "nbformat_minor": 0,
  "metadata": {
    "colab": {
      "name": "PD.ipynb",
      "provenance": [],
      "authorship_tag": "ABX9TyP/x6Y04nNGuI6bInFKCpXc",
      "include_colab_link": true
    },
    "kernelspec": {
      "name": "python3",
      "display_name": "Python 3"
    },
    "language_info": {
      "name": "python"
    }
  },
  "cells": [
    {
      "cell_type": "markdown",
      "metadata": {
        "id": "view-in-github",
        "colab_type": "text"
      },
      "source": [
        "<a href=\"https://colab.research.google.com/github/almartcas/TFG/blob/main/PD.ipynb\" target=\"_parent\"><img src=\"https://colab.research.google.com/assets/colab-badge.svg\" alt=\"Open In Colab\"/></a>"
      ]
    },
    {
      "cell_type": "markdown",
      "metadata": {
        "id": "dagRzpmx5djx"
      },
      "source": [
        "# Diagramas de persistencia."
      ]
    },
    {
      "cell_type": "markdown",
      "metadata": {
        "id": "omUylaS-5hg3"
      },
      "source": [
        "En este notebook, vamos a crear un diagrama de persistencia a partir de una nube de puntos que hemos generado de manera aleatoria."
      ]
    },
    {
      "cell_type": "code",
      "metadata": {
        "id": "GrzEV72UG8vS"
      },
      "source": [
        "!pip install cython\n",
        "!pip install ripser\n",
        "\n",
        "from ripser import ripser\n",
        "from persim import plot_diagrams\n",
        "import numpy as np\n",
        "import matplotlib.pyplot as plt\n",
        "from ripser import Rips\n"
      ],
      "execution_count": null,
      "outputs": []
    },
    {
      "cell_type": "markdown",
      "metadata": {
        "id": "w1M8hvkE6DuI"
      },
      "source": [
        "Primero creamos el dataset inicial con el que vamos a crear nuestro PD utilizando complejos de Vietoris-Rips."
      ]
    },
    {
      "cell_type": "code",
      "metadata": {
        "id": "ZWvmQ50mHiaI"
      },
      "source": [
        "#data = np.random.random((8,2))\n",
        "#data"
      ],
      "execution_count": null,
      "outputs": []
    },
    {
      "cell_type": "code",
      "metadata": {
        "colab": {
          "base_uri": "https://localhost:8080/"
        },
        "id": "Fw0Qa6td4cCt",
        "outputId": "30237fbd-5d55-4929-f49c-be75184437d3"
      },
      "source": [
        "data=np.array([[0.9822056 , 0.36493877],\n",
        "       [0.50298887, 0.9267979 ],\n",
        "       [0.23574578, 0.35935633],\n",
        "       [0.55150194, 0.54188547],\n",
        "       [0.31985077, 0.98478966],\n",
        "       [0.90971858, 0.60986595],\n",
        "       [0.66289489, 0.98271819],\n",
        "       [0.76184398, 0.0173718 ]])\n",
        "data"
      ],
      "execution_count": 2,
      "outputs": [
        {
          "output_type": "execute_result",
          "data": {
            "text/plain": [
              "array([[0.9822056 , 0.36493877],\n",
              "       [0.50298887, 0.9267979 ],\n",
              "       [0.23574578, 0.35935633],\n",
              "       [0.55150194, 0.54188547],\n",
              "       [0.31985077, 0.98478966],\n",
              "       [0.90971858, 0.60986595],\n",
              "       [0.66289489, 0.98271819],\n",
              "       [0.76184398, 0.0173718 ]])"
            ]
          },
          "metadata": {
            "tags": []
          },
          "execution_count": 2
        }
      ]
    },
    {
      "cell_type": "code",
      "metadata": {
        "colab": {
          "base_uri": "https://localhost:8080/",
          "height": 264
        },
        "id": "BeC_wTRwJ49S",
        "outputId": "acfb2844-19ea-4f36-8e1b-845071f1bee9"
      },
      "source": [
        "x, y = data.T\n",
        "plt.scatter(x,y)\n",
        "plt.show()"
      ],
      "execution_count": 3,
      "outputs": [
        {
          "output_type": "display_data",
          "data": {
            "image/png": "[encoded data removed]",
            "text/plain": [
              "<Figure size 432x288 with 1 Axes>"
            ]
          },
          "metadata": {
            "tags": [],
            "needs_background": "light"
          }
        }
      ]
    },
    {
      "cell_type": "markdown",
      "metadata": {
        "id": "C-2vOlis6OLV"
      },
      "source": [
        "Una vez tenemos nuestro conjunto de puntos inicial, creamos un complejo de Vietoris-Rips sobre el y construimos el diagrama de persistencia que buscabamos."
      ]
    },
    {
      "cell_type": "code",
      "metadata": {
        "id": "_Ag0wpCEKruF",
        "colab": {
          "base_uri": "https://localhost:8080/",
          "height": 296
        },
        "outputId": "495ed37e-e926-482c-e76a-118168194a84"
      },
      "source": [
        "rips = Rips(maxdim=3)\n",
        "diagrams = rips.fit_transform(data)\n",
        "rips.plot(diagrams)"
      ],
      "execution_count": 4,
      "outputs": [
        {
          "output_type": "stream",
          "text": [
            "Rips(maxdim=3, thresh=inf, coeff=2, do_cocycles=False, n_perm = None, verbose=True)\n"
          ],
          "name": "stdout"
        },
        {
          "output_type": "display_data",
          "data": {
            "image/png": "[encoded data removed]",
            "text/plain": [
              "<Figure size 432x288 with 1 Axes>"
            ]
          },
          "metadata": {
            "tags": [],
            "needs_background": "light"
          }
        }
      ]
    }
  ]
}