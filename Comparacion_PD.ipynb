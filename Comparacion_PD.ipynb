{
  "nbformat": 4,
  "nbformat_minor": 0,
  "metadata": {
    "colab": {
      "name": "Untitled11.ipynb",
      "provenance": [],
      "authorship_tag": "ABX9TyOgfghGifMV09Hz+STTWCS1",
      "include_colab_link": true
    },
    "kernelspec": {
      "name": "python3",
      "display_name": "Python 3"
    },
    "language_info": {
      "name": "python"
    }
  },
  "cells": [
    {
      "cell_type": "markdown",
      "metadata": {
        "id": "view-in-github",
        "colab_type": "text"
      },
      "source": [
        "<a href=\"https://colab.research.google.com/github/almartcas/oooo/blob/main/Comparacion_PD.ipynb\" target=\"_parent\"><img src=\"https://colab.research.google.com/assets/colab-badge.svg\" alt=\"Open In Colab\"/></a>"
      ]
    },
    {
      "cell_type": "markdown",
      "metadata": {
        "id": "a2BOT2GefQXB"
      },
      "source": [
        "# Comparación de diagramas de persistencia."
      ]
    },
    {
      "cell_type": "markdown",
      "metadata": {
        "id": "NiUeK21pag06"
      },
      "source": [
        "En este notebook vamos a crear dos diagramas de persistencia con el mismo número de puntos y a utilizar la distancia de Bottleneck y Wasserstein para calcular la distnacia a la que se encuentran y por tanto conocer el nivel de similitud entre ellos."
      ]
    },
    {
      "cell_type": "code",
      "metadata": {
        "id": "EMufGxlBycmH"
      },
      "source": [
        "!pip install cython\n",
        "!pip install ripser\n",
        "\n",
        "from ripser import ripser\n",
        "from persim import plot_diagrams\n",
        "import numpy as np\n",
        "import matplotlib.pyplot as plt\n",
        "from ripser import Rips"
      ],
      "execution_count": null,
      "outputs": []
    },
    {
      "cell_type": "code",
      "metadata": {
        "id": "mfFcu5a5zHOk"
      },
      "source": [
        "!pip install gudhi\n",
        "import gudhi\n",
        "import gudhi.hera.wasserstein"
      ],
      "execution_count": null,
      "outputs": []
    },
    {
      "cell_type": "markdown",
      "metadata": {
        "id": "veGTUqhkbI70"
      },
      "source": [
        "Primero construimos dos diagramas de persistencia con un dataset inicial con el mismo número de puntos."
      ]
    },
    {
      "cell_type": "markdown",
      "metadata": {
        "id": "haT1wvntbdPY"
      },
      "source": [
        "**Diagrama 1:**"
      ]
    },
    {
      "cell_type": "code",
      "metadata": {
        "colab": {
          "base_uri": "https://localhost:8080/"
        },
        "id": "McmccVlU1pre",
        "outputId": "25ad349b-a532-4605-8d39-edb80d3e944b"
      },
      "source": [
        "data1=np.array([[0.9822056 , 0.36493877],\n",
        "       [0.50298887, 0.9267979 ],\n",
        "       [0.23574578, 0.35935633],\n",
        "       [0.55150194, 0.54188547],\n",
        "       [0.31985077, 0.98478966],\n",
        "       [0.90971858, 0.60986595],\n",
        "       [0.66289489, 0.98271819],\n",
        "       [0.76184398, 0.0173718 ]])\n",
        "data1"
      ],
      "execution_count": 6,
      "outputs": [
        {
          "output_type": "execute_result",
          "data": {
            "text/plain": [
              "array([[0.9822056 , 0.36493877],\n",
              "       [0.50298887, 0.9267979 ],\n",
              "       [0.23574578, 0.35935633],\n",
              "       [0.55150194, 0.54188547],\n",
              "       [0.31985077, 0.98478966],\n",
              "       [0.90971858, 0.60986595],\n",
              "       [0.66289489, 0.98271819],\n",
              "       [0.76184398, 0.0173718 ]])"
            ]
          },
          "metadata": {
            "tags": []
          },
          "execution_count": 6
        }
      ]
    },
    {
      "cell_type": "code",
      "metadata": {
        "colab": {
          "base_uri": "https://localhost:8080/",
          "height": 265
        },
        "id": "sZtQ-Z6c1wvX",
        "outputId": "10d8f7ba-bf18-462a-ff52-17f00847cd5c"
      },
      "source": [
        "x1, y1 = data1.T\n",
        "plt.scatter(x1,y1)\n",
        "plt.show()"
      ],
      "execution_count": 7,
      "outputs": [
        {
          "output_type": "display_data",
          "data": {
            "image/png": "[encoded data removed]",
            "text/plain": [
              "<Figure size 432x288 with 1 Axes>"
            ]
          },
          "metadata": {
            "tags": [],
            "needs_background": "light"
          }
        }
      ]
    },
    {
      "cell_type": "code",
      "metadata": {
        "colab": {
          "base_uri": "https://localhost:8080/",
          "height": 279
        },
        "id": "qhEcVVam1-LS",
        "outputId": "a01f13d7-0a04-4eed-b2af-0a18badd1c4f"
      },
      "source": [
        "diagrams1 = ripser(data1)['dgms']\n",
        "plot_diagrams(diagrams1, show=True)"
      ],
      "execution_count": 8,
      "outputs": [
        {
          "output_type": "display_data",
          "data": {
            "image/png": "[encoded data removed]",
            "text/plain": [
              "<Figure size 432x288 with 1 Axes>"
            ]
          },
          "metadata": {
            "tags": [],
            "needs_background": "light"
          }
        }
      ]
    },
    {
      "cell_type": "markdown",
      "metadata": {
        "id": "QfB0wmIjbshV"
      },
      "source": [
        "Una vez tenemos el diagrama de persistencia mostramos las coordenadas de los puntos para utilizarlas despues en el cálculo de las distancias."
      ]
    },
    {
      "cell_type": "code",
      "metadata": {
        "colab": {
          "base_uri": "https://localhost:8080/"
        },
        "id": "nkxfqhWY2AyO",
        "outputId": "30d12622-a3e8-4985-d735-97f552e45038"
      },
      "source": [
        "diagrams1"
      ],
      "execution_count": 9,
      "outputs": [
        {
          "output_type": "execute_result",
          "data": {
            "text/plain": [
              "[array([[0.        , 0.16940193],\n",
              "        [0.        , 0.19210051],\n",
              "        [0.        , 0.25542843],\n",
              "        [0.        , 0.36461008],\n",
              "        [0.        , 0.36471748],\n",
              "        [0.        , 0.3879576 ],\n",
              "        [0.        , 0.41153619],\n",
              "        [0.        ,        inf]]), array([[0.44714731, 0.45468876]])]"
            ]
          },
          "metadata": {
            "tags": []
          },
          "execution_count": 9
        }
      ]
    },
    {
      "cell_type": "markdown",
      "metadata": {
        "id": "PwwboDCSb77z"
      },
      "source": [
        "**Diagrama 2:**"
      ]
    },
    {
      "cell_type": "markdown",
      "metadata": {
        "id": "pC4hpfTSb_n-"
      },
      "source": [
        "Para el segundo diagrama, vamos a crear un diagrama de persistenncia a partir de un dataset inicial calculado aleatoriamente."
      ]
    },
    {
      "cell_type": "code",
      "metadata": {
        "id": "EhdYtyoTcbw-",
        "outputId": "1177fe4e-a0c9-4767-ff40-d2c753827e97",
        "colab": {
          "base_uri": "https://localhost:8080/"
        }
      },
      "source": [
        "data2 = np.random.random((8,2))\n",
        "data2"
      ],
      "execution_count": 10,
      "outputs": [
        {
          "output_type": "execute_result",
          "data": {
            "text/plain": [
              "array([[0.02531656, 0.49793314],\n",
              "       [0.28616328, 0.80932601],\n",
              "       [0.95693102, 0.6184383 ],\n",
              "       [0.14829674, 0.12346046],\n",
              "       [0.20834531, 0.6381668 ],\n",
              "       [0.20464008, 0.10872905],\n",
              "       [0.67419027, 0.1373888 ],\n",
              "       [0.0970731 , 0.71965908]])"
            ]
          },
          "metadata": {
            "tags": []
          },
          "execution_count": 10
        }
      ]
    },
    {
      "cell_type": "code",
      "metadata": {
        "id": "3jeizVo5chqx",
        "outputId": "c7641d99-3563-4fa3-bce5-138a91e31c56",
        "colab": {
          "base_uri": "https://localhost:8080/",
          "height": 430
        }
      },
      "source": [
        "x2, y2 = data2.T\n",
        "plt.scatter(x2,y2)\n",
        "plt.show()"
      ],
      "execution_count": 11,
      "outputs": [
        {
          "output_type": "display_data",
          "data": {
            "image/png": "[encoded data removed]",
            "text/plain": [
              "<Figure size 640x480 with 1 Axes>"
            ]
          },
          "metadata": {
            "tags": []
          }
        }
      ]
    },
    {
      "cell_type": "code",
      "metadata": {
        "id": "oEK-SWowcmqg",
        "outputId": "5e3acc9a-eae8-4181-a441-3bf449736914",
        "colab": {
          "base_uri": "https://localhost:8080/",
          "height": 449
        }
      },
      "source": [
        "diagrams2 = ripser(data2)['dgms']\n",
        "plot_diagrams(diagrams2, show=True)"
      ],
      "execution_count": 12,
      "outputs": [
        {
          "output_type": "display_data",
          "data": {
            "image/png": "[encoded data removed]",
            "text/plain": [
              "<Figure size 640x480 with 1 Axes>"
            ]
          },
          "metadata": {
            "tags": []
          }
        }
      ]
    },
    {
      "cell_type": "code",
      "metadata": {
        "id": "XVpnevPocsgc",
        "outputId": "1db42b97-7320-463c-9495-f3129be3cf84",
        "colab": {
          "base_uri": "https://localhost:8080/"
        }
      },
      "source": [
        "diagrams2"
      ],
      "execution_count": 13,
      "outputs": [
        {
          "output_type": "execute_result",
          "data": {
            "text/plain": [
              "[array([[0.        , 0.05823733],\n",
              "        [0.        , 0.13792206],\n",
              "        [0.        , 0.1880189 ],\n",
              "        [0.        , 0.23057538],\n",
              "        [0.        , 0.3941496 ],\n",
              "        [0.        , 0.47042403],\n",
              "        [0.        , 0.55798829],\n",
              "        [0.        ,        inf]]), array([[0.69740051, 0.74884564]])]"
            ]
          },
          "metadata": {
            "tags": []
          },
          "execution_count": 13
        }
      ]
    },
    {
      "cell_type": "markdown",
      "metadata": {
        "id": "vahisbbVdBlh"
      },
      "source": [
        "A continuación, con la información de los diagramas de persistencia anteriores, calculamos la distancia de Bottleneck entre ellos."
      ]
    },
    {
      "cell_type": "code",
      "metadata": {
        "id": "urqwk9Y9fDPo"
      },
      "source": [
        "diag1 = [[0.        , 0.16940193],\n",
        "        [0.        , 0.19210051],\n",
        "        [0.        , 0.25542843],\n",
        "        [0.        , 0.36461008],\n",
        "        [0.        , 0.36471748],\n",
        "        [0.        , 0.3879576 ],\n",
        "        [0.        , 0.41153619],\n",
        "        [0.        , float('Inf')]]\n",
        "diag2 = [[0.        , 0.05823733],\n",
        "        [0.        , 0.13792206],\n",
        "        [0.        , 0.1880189 ],\n",
        "        [0.        , 0.23057538],\n",
        "        [0.        , 0.3941496 ],\n",
        "        [0.        , 0.47042403],\n",
        "        [0.        , 0.55798829],\n",
        "        [0.        ,        float('Inf')]]"
      ],
      "execution_count": null,
      "outputs": []
    },
    {
      "cell_type": "code",
      "metadata": {
        "colab": {
          "base_uri": "https://localhost:8080/"
        },
        "id": "J2a-YA9i3cJ8",
        "outputId": "c01fe8cf-a136-440e-cecc-047a1bacb6a1"
      },
      "source": [
        "message = \"La distancia de Bottleneck es \" + '%.2f' % gudhi.bottleneck_distance(diag1, diag2)\n",
        "print(message)"
      ],
      "execution_count": 14,
      "outputs": [
        {
          "output_type": "stream",
          "text": [
            "La distancia de Bottleneck es 0.15\n"
          ],
          "name": "stdout"
        }
      ]
    },
    {
      "cell_type": "code",
      "metadata": {
        "colab": {
          "base_uri": "https://localhost:8080/"
        },
        "id": "_t6Mayh64Ntj",
        "outputId": "1a8b5d65-c8a5-4d60-9e9a-28ae58c9c3bc"
      },
      "source": [
        "message = \"Wasserstein distance value = \" + '%.2f' % gudhi.hera.wasserstein.wasserstein_distance(diag1, diag2, order=1., internal_p=2.)\n",
        "print(message)"
      ],
      "execution_count": 23,
      "outputs": [
        {
          "output_type": "stream",
          "text": [
            "Wasserstein distance value = 0.62\n"
          ],
          "name": "stdout"
        }
      ]
    }
  ]
}