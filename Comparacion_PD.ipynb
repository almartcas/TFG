{
  "nbformat": 4,
  "nbformat_minor": 0,
  "metadata": {
    "colab": {
      "name": "Untitled11.ipynb",
      "provenance": [],
      "authorship_tag": "ABX9TyNqeQgPyxmnztXrFdSEDgS7",
      "include_colab_link": true
    },
    "kernelspec": {
      "name": "python3",
      "display_name": "Python 3"
    },
    "language_info": {
      "name": "python"
    }
  },
  "cells": [
    {
      "cell_type": "markdown",
      "metadata": {
        "id": "view-in-github",
        "colab_type": "text"
      },
      "source": [
        "<a href=\"https://colab.research.google.com/github/almartcas/oooo/blob/main/Comparacion_PD.ipynb\" target=\"_parent\"><img src=\"https://colab.research.google.com/assets/colab-badge.svg\" alt=\"Open In Colab\"/></a>"
      ]
    },
    {
      "cell_type": "code",
      "metadata": {
        "colab": {
          "base_uri": "https://localhost:8080/"
        },
        "id": "EMufGxlBycmH",
        "outputId": "5c0540a0-88e1-4866-eccf-1907551d6e0a"
      },
      "source": [
        "!pip install cython\n",
        "!pip install ripser\n",
        "\n",
        "from ripser import ripser\n",
        "from persim import plot_diagrams\n",
        "import numpy as np\n",
        "import matplotlib.pyplot as plt\n",
        "from ripser import Rips"
      ],
      "execution_count": null,
      "outputs": [
        {
          "output_type": "stream",
          "text": [
            "Requirement already satisfied: cython in /usr/local/lib/python3.7/dist-packages (0.29.23)\n",
            "Requirement already satisfied: ripser in /usr/local/lib/python3.7/dist-packages (0.6.0)\n",
            "Requirement already satisfied: scipy in /usr/local/lib/python3.7/dist-packages (from ripser) (1.4.1)\n",
            "Requirement already satisfied: numpy in /usr/local/lib/python3.7/dist-packages (from ripser) (1.19.5)\n",
            "Requirement already satisfied: scikit-learn in /usr/local/lib/python3.7/dist-packages (from ripser) (0.22.2.post1)\n",
            "Requirement already satisfied: Cython in /usr/local/lib/python3.7/dist-packages (from ripser) (0.29.23)\n",
            "Requirement already satisfied: persim in /usr/local/lib/python3.7/dist-packages (from ripser) (0.3.1)\n",
            "Requirement already satisfied: joblib>=0.11 in /usr/local/lib/python3.7/dist-packages (from scikit-learn->ripser) (1.0.1)\n",
            "Requirement already satisfied: deprecated in /usr/local/lib/python3.7/dist-packages (from persim->ripser) (1.2.12)\n",
            "Requirement already satisfied: hopcroftkarp in /usr/local/lib/python3.7/dist-packages (from persim->ripser) (1.2.5)\n",
            "Requirement already satisfied: matplotlib in /usr/local/lib/python3.7/dist-packages (from persim->ripser) (3.2.2)\n",
            "Requirement already satisfied: wrapt<2,>=1.10 in /usr/local/lib/python3.7/dist-packages (from deprecated->persim->ripser) (1.12.1)\n",
            "Requirement already satisfied: pyparsing!=2.0.4,!=2.1.2,!=2.1.6,>=2.0.1 in /usr/local/lib/python3.7/dist-packages (from matplotlib->persim->ripser) (2.4.7)\n",
            "Requirement already satisfied: python-dateutil>=2.1 in /usr/local/lib/python3.7/dist-packages (from matplotlib->persim->ripser) (2.8.1)\n",
            "Requirement already satisfied: kiwisolver>=1.0.1 in /usr/local/lib/python3.7/dist-packages (from matplotlib->persim->ripser) (1.3.1)\n",
            "Requirement already satisfied: cycler>=0.10 in /usr/local/lib/python3.7/dist-packages (from matplotlib->persim->ripser) (0.10.0)\n",
            "Requirement already satisfied: six>=1.5 in /usr/local/lib/python3.7/dist-packages (from python-dateutil>=2.1->matplotlib->persim->ripser) (1.15.0)\n"
          ],
          "name": "stdout"
        }
      ]
    },
    {
      "cell_type": "code",
      "metadata": {
        "colab": {
          "base_uri": "https://localhost:8080/"
        },
        "id": "mfFcu5a5zHOk",
        "outputId": "d24d912e-fc33-4107-f6ab-973132bb53b6"
      },
      "source": [
        "!pip install gudhi\n",
        "import gudhi\n",
        "import gudhi.wasserstein"
      ],
      "execution_count": null,
      "outputs": [
        {
          "output_type": "stream",
          "text": [
            "Requirement already satisfied: gudhi in /usr/local/lib/python3.7/dist-packages (3.4.1.post1)\n",
            "Requirement already satisfied: numpy>=1.9 in /usr/local/lib/python3.7/dist-packages (from gudhi) (1.19.5)\n",
            "POT (Python Optimal Transport) package is not installed. Try to run $ conda install -c conda-forge pot ; or $ pip install POT\n"
          ],
          "name": "stdout"
        }
      ]
    },
    {
      "cell_type": "code",
      "metadata": {
        "colab": {
          "base_uri": "https://localhost:8080/"
        },
        "id": "McmccVlU1pre",
        "outputId": "4612084a-93e7-4b95-fd40-87429c780e6e"
      },
      "source": [
        "data=np.array([[0.9822056 , 0.36493877],\n",
        "       [0.50298887, 0.9267979 ],\n",
        "       [0.23574578, 0.35935633],\n",
        "       [0.55150194, 0.54188547],\n",
        "       [0.31985077, 0.98478966],\n",
        "       [0.90971858, 0.60986595],\n",
        "       [0.66289489, 0.98271819],\n",
        "       [0.76184398, 0.0173718 ]])\n",
        "data"
      ],
      "execution_count": null,
      "outputs": [
        {
          "output_type": "execute_result",
          "data": {
            "text/plain": [
              "array([[0.9822056 , 0.36493877],\n",
              "       [0.50298887, 0.9267979 ],\n",
              "       [0.23574578, 0.35935633],\n",
              "       [0.55150194, 0.54188547],\n",
              "       [0.31985077, 0.98478966],\n",
              "       [0.90971858, 0.60986595],\n",
              "       [0.66289489, 0.98271819],\n",
              "       [0.76184398, 0.0173718 ]])"
            ]
          },
          "metadata": {
            "tags": []
          },
          "execution_count": 7
        }
      ]
    },
    {
      "cell_type": "code",
      "metadata": {
        "colab": {
          "base_uri": "https://localhost:8080/",
          "height": 265
        },
        "id": "sZtQ-Z6c1wvX",
        "outputId": "d14d75f6-82f1-4721-ab20-f0a685ef30f9"
      },
      "source": [
        "x, y = data.T\n",
        "plt.scatter(x,y)\n",
        "plt.show()"
      ],
      "execution_count": null,
      "outputs": [
        {
          "output_type": "display_data",
          "data": {
            "image/png": "[encoded data removed]",
            "text/plain": [
              "<Figure size 432x288 with 1 Axes>"
            ]
          },
          "metadata": {
            "tags": [],
            "needs_background": "light"
          }
        }
      ]
    },
    {
      "cell_type": "code",
      "metadata": {
        "colab": {
          "base_uri": "https://localhost:8080/",
          "height": 279
        },
        "id": "qhEcVVam1-LS",
        "outputId": "60dbcd87-2161-48a8-b292-fa10eb684c1c"
      },
      "source": [
        "diagrams = ripser(data)['dgms']\n",
        "plot_diagrams(diagrams, show=True)"
      ],
      "execution_count": null,
      "outputs": [
        {
          "output_type": "display_data",
          "data": {
            "image/png": "[encoded data removed]",
            "text/plain": [
              "<Figure size 432x288 with 1 Axes>"
            ]
          },
          "metadata": {
            "tags": [],
            "needs_background": "light"
          }
        }
      ]
    },
    {
      "cell_type": "code",
      "metadata": {
        "colab": {
          "base_uri": "https://localhost:8080/"
        },
        "id": "nkxfqhWY2AyO",
        "outputId": "807fa710-de4b-47cb-becf-48340a1d7a2d"
      },
      "source": [
        "diagrams"
      ],
      "execution_count": null,
      "outputs": [
        {
          "output_type": "execute_result",
          "data": {
            "text/plain": [
              "[array([[0.        , 0.16940193],\n",
              "        [0.        , 0.19210051],\n",
              "        [0.        , 0.25542843],\n",
              "        [0.        , 0.36461008],\n",
              "        [0.        , 0.36471748],\n",
              "        [0.        , 0.3879576 ],\n",
              "        [0.        , 0.41153619],\n",
              "        [0.        ,        inf]]), array([[0.44714731, 0.45468876]])]"
            ]
          },
          "metadata": {
            "tags": []
          },
          "execution_count": 12
        }
      ]
    },
    {
      "cell_type": "code",
      "metadata": {
        "colab": {
          "base_uri": "https://localhost:8080/"
        },
        "id": "J2a-YA9i3cJ8",
        "outputId": "6ec216e0-8684-4d12-fa90-61aecb3fb0ee"
      },
      "source": [
        "diag1 = [[0.        , 0.16940193],\n",
        "        [0.        , 0.19210051],\n",
        "        [0.        , 0.25542843],\n",
        "        [0.        , 0.36461008],\n",
        "        [0.        , 0.36471748],\n",
        "        [0.        , 0.3879576 ],\n",
        "        [0.        , 0.41153619],\n",
        "        [0.        , float('Inf')]]\n",
        "diag2 = [[0.        , 0.2],\n",
        "        [0.        , 0.2],\n",
        "        [0.        , 0.3],\n",
        "        [0.        , 0.4],\n",
        "        [0.        , 0.4],\n",
        "        [0.        , 0.4],\n",
        "        [0.        , 0.4],\n",
        "        [0.        , float('Inf')]]\n",
        "\n",
        "\n",
        "message = \"La distancia de Bottleneck es \" + '%.2f' % gudhi.bottleneck_distance(diag1, diag2)\n",
        "print(message)"
      ],
      "execution_count": null,
      "outputs": [
        {
          "output_type": "stream",
          "text": [
            "La distancia de Bottleneck es 0.04\n"
          ],
          "name": "stdout"
        }
      ]
    },
    {
      "cell_type": "code",
      "metadata": {
        "colab": {
          "base_uri": "https://localhost:8080/",
          "height": 350
        },
        "id": "_t6Mayh64Ntj",
        "outputId": "ab4b5410-be87-4898-ef27-50d7b71f94d6"
      },
      "source": [
        "dgm1 = np.array([[0.        , 0.16940193],\n",
        "        [0.        , 0.19210051],\n",
        "        [0.        , 0.25542843],\n",
        "        [0.        , 0.36461008],\n",
        "        [0.        , 0.36471748],\n",
        "        [0.        , 0.3879576 ],\n",
        "        [0.        , 0.41153619]])\n",
        "dgm2 = np.array([[0.        , 0.2],\n",
        "        [0.        , 0.2],\n",
        "        [0.        , 0.3],\n",
        "        [0.        , 0.4],\n",
        "        [0.        , 0.4],\n",
        "        [0.        , 0.4],\n",
        "        [0.        , 0.4]])\n",
        "cost, matchings = gudhi.wasserstein.wasserstein_distance(dgm1, dgm2, matching=True, order=1, internal_p=2)\n",
        "\n",
        "message_cost = \"Wasserstein distance value = %.2f\" %cost\n",
        "print(message_cost)\n",
        "dgm1_to_diagonal = matchings[matchings[:,1] == -1, 0]\n",
        "dgm2_to_diagonal = matchings[matchings[:,0] == -1, 1]\n",
        "off_diagonal_match = np.delete(matchings, np.where(matchings == -1)[0], axis=0)\n",
        "\n",
        "for i,j in off_diagonal_match:\n",
        "    print(\"point %s in dgm1 is matched to point %s in dgm2\" %(i,j))\n",
        "for i in dgm1_to_diagonal:\n",
        "    print(\"point %s in dgm1 is matched to the diagonal\" %i)\n",
        "for j in dgm2_to_diagonal:\n",
        "    print(\"point %s in dgm2 is matched to the diagonal\" %j)"
      ],
      "execution_count": null,
      "outputs": [
        {
          "output_type": "error",
          "ename": "NameError",
          "evalue": "ignored",
          "traceback": [
            "\u001b[0;31m---------------------------------------------------------------------------\u001b[0m",
            "\u001b[0;31mNameError\u001b[0m                                 Traceback (most recent call last)",
            "\u001b[0;32m<ipython-input-26-9c51b836d1ed>\u001b[0m in \u001b[0;36m<module>\u001b[0;34m()\u001b[0m\n\u001b[1;32m     13\u001b[0m         \u001b[0;34m[\u001b[0m\u001b[0;36m0.\u001b[0m        \u001b[0;34m,\u001b[0m \u001b[0;36m0.4\u001b[0m\u001b[0;34m]\u001b[0m\u001b[0;34m,\u001b[0m\u001b[0;34m\u001b[0m\u001b[0;34m\u001b[0m\u001b[0m\n\u001b[1;32m     14\u001b[0m         [0.        , 0.4]])\n\u001b[0;32m---> 15\u001b[0;31m \u001b[0mcost\u001b[0m\u001b[0;34m,\u001b[0m \u001b[0mmatchings\u001b[0m \u001b[0;34m=\u001b[0m \u001b[0mgudhi\u001b[0m\u001b[0;34m.\u001b[0m\u001b[0mwasserstein\u001b[0m\u001b[0;34m.\u001b[0m\u001b[0mwasserstein_distance\u001b[0m\u001b[0;34m(\u001b[0m\u001b[0mdgm1\u001b[0m\u001b[0;34m,\u001b[0m \u001b[0mdgm2\u001b[0m\u001b[0;34m,\u001b[0m \u001b[0mmatching\u001b[0m\u001b[0;34m=\u001b[0m\u001b[0;32mTrue\u001b[0m\u001b[0;34m,\u001b[0m \u001b[0morder\u001b[0m\u001b[0;34m=\u001b[0m\u001b[0;36m1\u001b[0m\u001b[0;34m,\u001b[0m \u001b[0minternal_p\u001b[0m\u001b[0;34m=\u001b[0m\u001b[0;36m2\u001b[0m\u001b[0;34m)\u001b[0m\u001b[0;34m\u001b[0m\u001b[0;34m\u001b[0m\u001b[0m\n\u001b[0m\u001b[1;32m     16\u001b[0m \u001b[0;34m\u001b[0m\u001b[0m\n\u001b[1;32m     17\u001b[0m \u001b[0mmessage_cost\u001b[0m \u001b[0;34m=\u001b[0m \u001b[0;34m\"Wasserstein distance value = %.2f\"\u001b[0m \u001b[0;34m%\u001b[0m\u001b[0mcost\u001b[0m\u001b[0;34m\u001b[0m\u001b[0;34m\u001b[0m\u001b[0m\n",
            "\u001b[0;32m/usr/local/lib/python3.7/dist-packages/gudhi/wasserstein/wasserstein.py\u001b[0m in \u001b[0;36mwasserstein_distance\u001b[0;34m(X, Y, matching, order, internal_p, enable_autodiff)\u001b[0m\n\u001b[1;32m    148\u001b[0m     \u001b[0;32mif\u001b[0m \u001b[0mmatching\u001b[0m\u001b[0;34m:\u001b[0m\u001b[0;34m\u001b[0m\u001b[0;34m\u001b[0m\u001b[0m\n\u001b[1;32m    149\u001b[0m         \u001b[0;32massert\u001b[0m \u001b[0;32mnot\u001b[0m \u001b[0menable_autodiff\u001b[0m\u001b[0;34m,\u001b[0m \u001b[0;34m\"matching and enable_autodiff are currently incompatible\"\u001b[0m\u001b[0;34m\u001b[0m\u001b[0;34m\u001b[0m\u001b[0m\n\u001b[0;32m--> 150\u001b[0;31m         \u001b[0mP\u001b[0m \u001b[0;34m=\u001b[0m \u001b[0mot\u001b[0m\u001b[0;34m.\u001b[0m\u001b[0memd\u001b[0m\u001b[0;34m(\u001b[0m\u001b[0ma\u001b[0m\u001b[0;34m=\u001b[0m\u001b[0ma\u001b[0m\u001b[0;34m,\u001b[0m\u001b[0mb\u001b[0m\u001b[0;34m=\u001b[0m\u001b[0mb\u001b[0m\u001b[0;34m,\u001b[0m\u001b[0mM\u001b[0m\u001b[0;34m=\u001b[0m\u001b[0mM\u001b[0m\u001b[0;34m,\u001b[0m \u001b[0mnumItermax\u001b[0m\u001b[0;34m=\u001b[0m\u001b[0;36m2000000\u001b[0m\u001b[0;34m)\u001b[0m\u001b[0;34m\u001b[0m\u001b[0;34m\u001b[0m\u001b[0m\n\u001b[0m\u001b[1;32m    151\u001b[0m         \u001b[0mot_cost\u001b[0m \u001b[0;34m=\u001b[0m \u001b[0mnp\u001b[0m\u001b[0;34m.\u001b[0m\u001b[0msum\u001b[0m\u001b[0;34m(\u001b[0m\u001b[0mnp\u001b[0m\u001b[0;34m.\u001b[0m\u001b[0mmultiply\u001b[0m\u001b[0;34m(\u001b[0m\u001b[0mP\u001b[0m\u001b[0;34m,\u001b[0m\u001b[0mM\u001b[0m\u001b[0;34m)\u001b[0m\u001b[0;34m)\u001b[0m\u001b[0;34m\u001b[0m\u001b[0;34m\u001b[0m\u001b[0m\n\u001b[1;32m    152\u001b[0m         \u001b[0mP\u001b[0m\u001b[0;34m[\u001b[0m\u001b[0;34m-\u001b[0m\u001b[0;36m1\u001b[0m\u001b[0;34m,\u001b[0m \u001b[0;34m-\u001b[0m\u001b[0;36m1\u001b[0m\u001b[0;34m]\u001b[0m \u001b[0;34m=\u001b[0m \u001b[0;36m0\u001b[0m  \u001b[0;31m# Remove matching corresponding to the diagonal\u001b[0m\u001b[0;34m\u001b[0m\u001b[0;34m\u001b[0m\u001b[0m\n",
            "\u001b[0;31mNameError\u001b[0m: name 'ot' is not defined"
          ]
        }
      ]
    }
  ]
}